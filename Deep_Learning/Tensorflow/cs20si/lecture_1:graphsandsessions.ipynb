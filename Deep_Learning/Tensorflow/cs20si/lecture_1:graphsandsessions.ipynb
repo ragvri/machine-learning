{
 "cells": [
  {
   "cell_type": "markdown",
   "metadata": {},
   "source": [
    "# **TENSORFLOW**\n",
    "\n",
    "* Open sourced by Google \n",
    "* Pytorch by Facebook\n",
    "* Wavenet-> Text to speech network\n"
   ]
  },
  {
   "cell_type": "markdown",
   "metadata": {},
   "source": [
    "**Graphs and Sessions**\n",
    "\n",
    "Tensorflow separates the definition and execution of a model. We first define the graph. Then we use session to layout the graph.\n",
    "\n",
    "**Tensor -> n dim matrix**\n"
   ]
  },
  {
   "cell_type": "code",
   "execution_count": 1,
   "metadata": {},
   "outputs": [
    {
     "name": "stdout",
     "output_type": "stream",
     "text": [
      "Tensor(\"Add:0\", shape=(), dtype=int32)\n"
     ]
    }
   ],
   "source": [
    "import tensorflow as tf\n",
    "\n",
    "a = tf.add(2, 3)\n",
    "\n",
    "print(a)"
   ]
  },
  {
   "cell_type": "markdown",
   "metadata": {},
   "source": [
    "When we print(a) above we expect 5 as output but it is not so.\n",
    "This is because we are just creating the graph. \n",
    "\n",
    "Here a node called \"add\" has been created. The input is a scalar ie 3 and 5, so a zero dimension. Hence shape is 0. Data type is int32"
   ]
  },
  {
   "cell_type": "markdown",
   "metadata": {},
   "source": [
    "**Tensorboard** ->Allows us to visualise the graph defined\n",
    "\n",
    "* Nodes : are the operations, variables, constants etc\n",
    "* Tensor values on edges\n",
    "\n",
    "So the above statement gives a node having addition operation with 2 edges going to it having values 3 and 5"
   ]
  },
  {
   "cell_type": "markdown",
   "metadata": {},
   "source": [
    "**To get the value of a**  -> Create a session\n"
   ]
  },
  {
   "cell_type": "code",
   "execution_count": 2,
   "metadata": {
    "collapsed": true
   },
   "outputs": [],
   "source": [
    "sess = tf.Session()"
   ]
  },
  {
   "cell_type": "code",
   "execution_count": 3,
   "metadata": {},
   "outputs": [
    {
     "name": "stdout",
     "output_type": "stream",
     "text": [
      "5\n"
     ]
    }
   ],
   "source": [
    "print(sess.run(a))  # runs the session\n",
    "\n",
    "# tf.Session(fetches, feed_dict=None, options=None, run_metadata=None)\n"
   ]
  },
  {
   "cell_type": "markdown",
   "metadata": {},
   "source": [
    "Inside sess.run(), we give either the whole graph or the node as input to the paranthesis.\n",
    "**If you want to compute the value of multiple nodes, provide them as a list**\n",
    "\n",
    "\n",
    "\n",
    "eg:\n"
   ]
  },
  {
   "cell_type": "code",
   "execution_count": null,
   "metadata": {
    "collapsed": true
   },
   "outputs": [],
   "source": [
    "# sess.run([a,b]) # computes the value of a and b"
   ]
  },
  {
   "cell_type": "markdown",
   "metadata": {},
   "source": [
    "\n",
    "When we give a as input to parameter of .run : tensorflow looks at the graph defined and computes whatever is necessary to get the value of a. So if  many nodes, it will first compute the other nodes necessary to get the value of node a."
   ]
  },
  {
   "cell_type": "code",
   "execution_count": null,
   "metadata": {
    "collapsed": true
   },
   "outputs": [],
   "source": [
    "sess.close()  # closes the session\n"
   ]
  },
  {
   "cell_type": "markdown",
   "metadata": {},
   "source": [
    "** Instead of explicitly closing the session, we can use the with statement of python like in case of files **\n"
   ]
  },
  {
   "cell_type": "code",
   "execution_count": 5,
   "metadata": {},
   "outputs": [
    {
     "name": "stdout",
     "output_type": "stream",
     "text": [
      "5\n"
     ]
    }
   ],
   "source": [
    "with tf.Session() as sess:\n",
    "    print(sess.run(a))"
   ]
  },
  {
   "cell_type": "markdown",
   "metadata": {},
   "source": [
    "## **Now lets consider new example**\n"
   ]
  },
  {
   "cell_type": "code",
   "execution_count": 6,
   "metadata": {},
   "outputs": [
    {
     "name": "stdout",
     "output_type": "stream",
     "text": [
      "15625\n"
     ]
    }
   ],
   "source": [
    "x = 2\n",
    "y = 3\n",
    "op1 = tf.add(x,y)\n",
    "op2 = tf.multiply(x,y)\n",
    "op3 = tf.pow(op1,op2)\n",
    "\n",
    "with tf.Session() as sess:\n",
    "    print(sess.run(op3))"
   ]
  },
  {
   "cell_type": "markdown",
   "metadata": {},
   "source": [
    "The above will first compute op1 and op2 and then finally op3, even though we only want the value of op3. \n",
    "\n",
    "**The graph is created when defining not in the tf.Session()**\n",
    "\n",
    "The important thing to note is **not everything that is defined is calculated. Only those portion of the graph is calculated which is required by the sess.run(). This is the power of Graph dataflow used in tensorflow**"
   ]
  },
  {
   "cell_type": "markdown",
   "metadata": {},
   "source": [
    "* Since tf is based on graph, different nodes could be calculated across different CPUs/GPUs"
   ]
  },
  {
   "cell_type": "markdown",
   "metadata": {},
   "source": [
    "## What if we want more graphs?\n",
    "\n",
    "**Ans)**  Not recommended. When we start to create our graph, tensorflow actually has a default graph. It just puts our nodes/values in that graph. ** You should use disconnected subgraphs **\n",
    "\n",
    "If you really want to....."
   ]
  },
  {
   "cell_type": "code",
   "execution_count": 5,
   "metadata": {
    "collapsed": true
   },
   "outputs": [],
   "source": [
    "g = tf.Graph()  # if you want something other than the default graph\n",
    "\n",
    "with g.as_default():  # making it the default graph\n",
    "    x = tf.add(2, 3)\n",
    "\n",
    "sess = tf.Session(graph=g)  # need to pass the graph..\n",
    "sess.run(x)\n",
    "sess.close()"
   ]
  }
 ],
 "metadata": {
  "kernelspec": {
   "display_name": "Python 3",
   "language": "python",
   "name": "python3"
  },
  "language_info": {
   "codemirror_mode": {
    "name": "ipython",
    "version": 3
   },
   "file_extension": ".py",
   "mimetype": "text/x-python",
   "name": "python",
   "nbconvert_exporter": "python",
   "pygments_lexer": "ipython3",
   "version": "3.5.2"
  }
 },
 "nbformat": 4,
 "nbformat_minor": 1
}
